{
 "cells": [
  {
   "cell_type": "markdown",
   "id": "6f52490b",
   "metadata": {},
   "source": [
    "# Reproducible and Interactive Data Analysis and Modelling using Jupyter Notebooks\n",
    "\n",
    "Abstect \n",
    "\n",
    "This is a basic python learning process. Through this course, you can easily master the basic use.\n",
    "\n",
    "\n",
    "\n",
    " Day 1"
   ]
  },
  {
   "cell_type": "markdown",
   "id": "8eff5da3",
   "metadata": {},
   "source": [
    "task 1\n",
    "\n",
    "\n",
    "Pythagoras' theorem\n",
    "\n",
    "This theorem can be written as an equation relating the lengths of the sides a, b and the hypotenuse c, often called the Pythagorean equation. \n",
    "$$a^2 + b^2 = c^2$$\n",
    "\n",
    "You can check in here (https://en.wikipedia.org/wiki/Pythagorean_theorem)"
   ]
  },
  {
   "cell_type": "markdown",
   "id": "5433f06a",
   "metadata": {},
   "source": [
    "task 2 \n",
    "|:Element: |: Symbol：| ：Number：|\n",
    "\n",
    "|--------  | -------- | ----------|\n",
    "\n",
    "|:Hydrogen:|: H:      | ： 1    ：|\n"
   ]
  },
  {
   "cell_type": "code",
   "execution_count": 1,
   "id": "bcc93c3b",
   "metadata": {},
   "outputs": [],
   "source": [
    "from IPython.display import Markdown"
   ]
  },
  {
   "cell_type": "markdown",
   "id": "5339b6ad",
   "metadata": {},
   "source": [
    "|:Element: |: Symbol：| ：Number：|\n",
    "|--------  | -------- | ---------|\n",
    "|:Hydrogen:|: H:      | ： 1    ：|"
   ]
  },
  {
   "cell_type": "markdown",
   "id": "3107adc9",
   "metadata": {},
   "source": [
    "task 3"
   ]
  },
  {
   "cell_type": "code",
   "execution_count": 2,
   "id": "c4904b0c",
   "metadata": {},
   "outputs": [
    {
     "ename": "PermissionError",
     "evalue": "[WinError 5] Access is denied: 'C:\\\\Users\\\\xingz\\\\AppData\\\\Local\\\\Application Data'",
     "output_type": "error",
     "traceback": [
      "\u001b[1;31m---------------------------------------------------------------------------\u001b[0m",
      "\u001b[1;31mPermissionError\u001b[0m                           Traceback (most recent call last)",
      "\u001b[1;32m~\\AppData\\Local\\Temp/ipykernel_7548/4023144627.py\u001b[0m in \u001b[0;36m<module>\u001b[1;34m\u001b[0m\n\u001b[0;32m     13\u001b[0m \u001b[1;33m\u001b[0m\u001b[0m\n\u001b[0;32m     14\u001b[0m \u001b[1;32mif\u001b[0m \u001b[0m__name__\u001b[0m \u001b[1;33m==\u001b[0m \u001b[1;34m'__main__'\u001b[0m\u001b[1;33m:\u001b[0m\u001b[1;33m\u001b[0m\u001b[1;33m\u001b[0m\u001b[0m\n\u001b[1;32m---> 15\u001b[1;33m     \u001b[0mgenerate_tree\u001b[0m\u001b[1;33m(\u001b[0m\u001b[0mPath\u001b[0m\u001b[1;33m.\u001b[0m\u001b[0mcwd\u001b[0m\u001b[1;33m(\u001b[0m\u001b[1;33m)\u001b[0m\u001b[1;33m)\u001b[0m\u001b[1;33m\u001b[0m\u001b[1;33m\u001b[0m\u001b[0m\n\u001b[0m\u001b[0;32m     16\u001b[0m     \u001b[0mprint\u001b[0m\u001b[1;33m(\u001b[0m\u001b[0mtree_str\u001b[0m\u001b[1;33m)\u001b[0m\u001b[1;33m\u001b[0m\u001b[1;33m\u001b[0m\u001b[0m\n",
      "\u001b[1;32m~\\AppData\\Local\\Temp/ipykernel_7548/4023144627.py\u001b[0m in \u001b[0;36mgenerate_tree\u001b[1;34m(pathname, n)\u001b[0m\n\u001b[0;32m     10\u001b[0m             \u001b[0mstr\u001b[0m\u001b[1;33m(\u001b[0m\u001b[0mpathname\u001b[0m\u001b[1;33m.\u001b[0m\u001b[0mrelative_to\u001b[0m\u001b[1;33m(\u001b[0m\u001b[0mpathname\u001b[0m\u001b[1;33m.\u001b[0m\u001b[0mparent\u001b[0m\u001b[1;33m)\u001b[0m\u001b[1;33m)\u001b[0m \u001b[1;33m+\u001b[0m \u001b[1;34m'\\\\'\u001b[0m \u001b[1;33m+\u001b[0m \u001b[1;34m'\\n'\u001b[0m\u001b[1;33m\u001b[0m\u001b[1;33m\u001b[0m\u001b[0m\n\u001b[0;32m     11\u001b[0m         \u001b[1;32mfor\u001b[0m \u001b[0mcp\u001b[0m \u001b[1;32min\u001b[0m \u001b[0mpathname\u001b[0m\u001b[1;33m.\u001b[0m\u001b[0miterdir\u001b[0m\u001b[1;33m(\u001b[0m\u001b[1;33m)\u001b[0m\u001b[1;33m:\u001b[0m\u001b[1;33m\u001b[0m\u001b[1;33m\u001b[0m\u001b[0m\n\u001b[1;32m---> 12\u001b[1;33m             \u001b[0mgenerate_tree\u001b[0m\u001b[1;33m(\u001b[0m\u001b[0mcp\u001b[0m\u001b[1;33m,\u001b[0m \u001b[0mn\u001b[0m \u001b[1;33m+\u001b[0m \u001b[1;36m1\u001b[0m\u001b[1;33m)\u001b[0m\u001b[1;33m\u001b[0m\u001b[1;33m\u001b[0m\u001b[0m\n\u001b[0m\u001b[0;32m     13\u001b[0m \u001b[1;33m\u001b[0m\u001b[0m\n\u001b[0;32m     14\u001b[0m \u001b[1;32mif\u001b[0m \u001b[0m__name__\u001b[0m \u001b[1;33m==\u001b[0m \u001b[1;34m'__main__'\u001b[0m\u001b[1;33m:\u001b[0m\u001b[1;33m\u001b[0m\u001b[1;33m\u001b[0m\u001b[0m\n",
      "\u001b[1;32m~\\AppData\\Local\\Temp/ipykernel_7548/4023144627.py\u001b[0m in \u001b[0;36mgenerate_tree\u001b[1;34m(pathname, n)\u001b[0m\n\u001b[0;32m     10\u001b[0m             \u001b[0mstr\u001b[0m\u001b[1;33m(\u001b[0m\u001b[0mpathname\u001b[0m\u001b[1;33m.\u001b[0m\u001b[0mrelative_to\u001b[0m\u001b[1;33m(\u001b[0m\u001b[0mpathname\u001b[0m\u001b[1;33m.\u001b[0m\u001b[0mparent\u001b[0m\u001b[1;33m)\u001b[0m\u001b[1;33m)\u001b[0m \u001b[1;33m+\u001b[0m \u001b[1;34m'\\\\'\u001b[0m \u001b[1;33m+\u001b[0m \u001b[1;34m'\\n'\u001b[0m\u001b[1;33m\u001b[0m\u001b[1;33m\u001b[0m\u001b[0m\n\u001b[0;32m     11\u001b[0m         \u001b[1;32mfor\u001b[0m \u001b[0mcp\u001b[0m \u001b[1;32min\u001b[0m \u001b[0mpathname\u001b[0m\u001b[1;33m.\u001b[0m\u001b[0miterdir\u001b[0m\u001b[1;33m(\u001b[0m\u001b[1;33m)\u001b[0m\u001b[1;33m:\u001b[0m\u001b[1;33m\u001b[0m\u001b[1;33m\u001b[0m\u001b[0m\n\u001b[1;32m---> 12\u001b[1;33m             \u001b[0mgenerate_tree\u001b[0m\u001b[1;33m(\u001b[0m\u001b[0mcp\u001b[0m\u001b[1;33m,\u001b[0m \u001b[0mn\u001b[0m \u001b[1;33m+\u001b[0m \u001b[1;36m1\u001b[0m\u001b[1;33m)\u001b[0m\u001b[1;33m\u001b[0m\u001b[1;33m\u001b[0m\u001b[0m\n\u001b[0m\u001b[0;32m     13\u001b[0m \u001b[1;33m\u001b[0m\u001b[0m\n\u001b[0;32m     14\u001b[0m \u001b[1;32mif\u001b[0m \u001b[0m__name__\u001b[0m \u001b[1;33m==\u001b[0m \u001b[1;34m'__main__'\u001b[0m\u001b[1;33m:\u001b[0m\u001b[1;33m\u001b[0m\u001b[1;33m\u001b[0m\u001b[0m\n",
      "\u001b[1;32m~\\AppData\\Local\\Temp/ipykernel_7548/4023144627.py\u001b[0m in \u001b[0;36mgenerate_tree\u001b[1;34m(pathname, n)\u001b[0m\n\u001b[0;32m     10\u001b[0m             \u001b[0mstr\u001b[0m\u001b[1;33m(\u001b[0m\u001b[0mpathname\u001b[0m\u001b[1;33m.\u001b[0m\u001b[0mrelative_to\u001b[0m\u001b[1;33m(\u001b[0m\u001b[0mpathname\u001b[0m\u001b[1;33m.\u001b[0m\u001b[0mparent\u001b[0m\u001b[1;33m)\u001b[0m\u001b[1;33m)\u001b[0m \u001b[1;33m+\u001b[0m \u001b[1;34m'\\\\'\u001b[0m \u001b[1;33m+\u001b[0m \u001b[1;34m'\\n'\u001b[0m\u001b[1;33m\u001b[0m\u001b[1;33m\u001b[0m\u001b[0m\n\u001b[0;32m     11\u001b[0m         \u001b[1;32mfor\u001b[0m \u001b[0mcp\u001b[0m \u001b[1;32min\u001b[0m \u001b[0mpathname\u001b[0m\u001b[1;33m.\u001b[0m\u001b[0miterdir\u001b[0m\u001b[1;33m(\u001b[0m\u001b[1;33m)\u001b[0m\u001b[1;33m:\u001b[0m\u001b[1;33m\u001b[0m\u001b[1;33m\u001b[0m\u001b[0m\n\u001b[1;32m---> 12\u001b[1;33m             \u001b[0mgenerate_tree\u001b[0m\u001b[1;33m(\u001b[0m\u001b[0mcp\u001b[0m\u001b[1;33m,\u001b[0m \u001b[0mn\u001b[0m \u001b[1;33m+\u001b[0m \u001b[1;36m1\u001b[0m\u001b[1;33m)\u001b[0m\u001b[1;33m\u001b[0m\u001b[1;33m\u001b[0m\u001b[0m\n\u001b[0m\u001b[0;32m     13\u001b[0m \u001b[1;33m\u001b[0m\u001b[0m\n\u001b[0;32m     14\u001b[0m \u001b[1;32mif\u001b[0m \u001b[0m__name__\u001b[0m \u001b[1;33m==\u001b[0m \u001b[1;34m'__main__'\u001b[0m\u001b[1;33m:\u001b[0m\u001b[1;33m\u001b[0m\u001b[1;33m\u001b[0m\u001b[0m\n",
      "\u001b[1;32m~\\AppData\\Local\\Temp/ipykernel_7548/4023144627.py\u001b[0m in \u001b[0;36mgenerate_tree\u001b[1;34m(pathname, n)\u001b[0m\n\u001b[0;32m      9\u001b[0m         \u001b[0mtree_str\u001b[0m \u001b[1;33m+=\u001b[0m \u001b[1;34m'    |'\u001b[0m \u001b[1;33m*\u001b[0m \u001b[0mn\u001b[0m \u001b[1;33m+\u001b[0m \u001b[1;34m'-'\u001b[0m \u001b[1;33m*\u001b[0m \u001b[1;36m4\u001b[0m \u001b[1;33m+\u001b[0m\u001b[0;31m \u001b[0m\u001b[0;31m\\\u001b[0m\u001b[1;33m\u001b[0m\u001b[1;33m\u001b[0m\u001b[0m\n\u001b[0;32m     10\u001b[0m             \u001b[0mstr\u001b[0m\u001b[1;33m(\u001b[0m\u001b[0mpathname\u001b[0m\u001b[1;33m.\u001b[0m\u001b[0mrelative_to\u001b[0m\u001b[1;33m(\u001b[0m\u001b[0mpathname\u001b[0m\u001b[1;33m.\u001b[0m\u001b[0mparent\u001b[0m\u001b[1;33m)\u001b[0m\u001b[1;33m)\u001b[0m \u001b[1;33m+\u001b[0m \u001b[1;34m'\\\\'\u001b[0m \u001b[1;33m+\u001b[0m \u001b[1;34m'\\n'\u001b[0m\u001b[1;33m\u001b[0m\u001b[1;33m\u001b[0m\u001b[0m\n\u001b[1;32m---> 11\u001b[1;33m         \u001b[1;32mfor\u001b[0m \u001b[0mcp\u001b[0m \u001b[1;32min\u001b[0m \u001b[0mpathname\u001b[0m\u001b[1;33m.\u001b[0m\u001b[0miterdir\u001b[0m\u001b[1;33m(\u001b[0m\u001b[1;33m)\u001b[0m\u001b[1;33m:\u001b[0m\u001b[1;33m\u001b[0m\u001b[1;33m\u001b[0m\u001b[0m\n\u001b[0m\u001b[0;32m     12\u001b[0m             \u001b[0mgenerate_tree\u001b[0m\u001b[1;33m(\u001b[0m\u001b[0mcp\u001b[0m\u001b[1;33m,\u001b[0m \u001b[0mn\u001b[0m \u001b[1;33m+\u001b[0m \u001b[1;36m1\u001b[0m\u001b[1;33m)\u001b[0m\u001b[1;33m\u001b[0m\u001b[1;33m\u001b[0m\u001b[0m\n\u001b[0;32m     13\u001b[0m \u001b[1;33m\u001b[0m\u001b[0m\n",
      "\u001b[1;32mC:\\software\\work\\python\\pyhton\\lib\\pathlib.py\u001b[0m in \u001b[0;36miterdir\u001b[1;34m(self)\u001b[0m\n\u001b[0;32m   1158\u001b[0m         \u001b[0mresult\u001b[0m \u001b[1;32mfor\u001b[0m \u001b[0mthe\u001b[0m \u001b[0mspecial\u001b[0m \u001b[0mpaths\u001b[0m \u001b[1;34m'.'\u001b[0m \u001b[1;32mand\u001b[0m \u001b[1;34m'..'\u001b[0m\u001b[1;33m.\u001b[0m\u001b[1;33m\u001b[0m\u001b[1;33m\u001b[0m\u001b[0m\n\u001b[0;32m   1159\u001b[0m         \"\"\"\n\u001b[1;32m-> 1160\u001b[1;33m         \u001b[1;32mfor\u001b[0m \u001b[0mname\u001b[0m \u001b[1;32min\u001b[0m \u001b[0mself\u001b[0m\u001b[1;33m.\u001b[0m\u001b[0m_accessor\u001b[0m\u001b[1;33m.\u001b[0m\u001b[0mlistdir\u001b[0m\u001b[1;33m(\u001b[0m\u001b[0mself\u001b[0m\u001b[1;33m)\u001b[0m\u001b[1;33m:\u001b[0m\u001b[1;33m\u001b[0m\u001b[1;33m\u001b[0m\u001b[0m\n\u001b[0m\u001b[0;32m   1161\u001b[0m             \u001b[1;32mif\u001b[0m \u001b[0mname\u001b[0m \u001b[1;32min\u001b[0m \u001b[1;33m{\u001b[0m\u001b[1;34m'.'\u001b[0m\u001b[1;33m,\u001b[0m \u001b[1;34m'..'\u001b[0m\u001b[1;33m}\u001b[0m\u001b[1;33m:\u001b[0m\u001b[1;33m\u001b[0m\u001b[1;33m\u001b[0m\u001b[0m\n\u001b[0;32m   1162\u001b[0m                 \u001b[1;31m# Yielding a path object for these makes little sense\u001b[0m\u001b[1;33m\u001b[0m\u001b[1;33m\u001b[0m\u001b[0m\n",
      "\u001b[1;31mPermissionError\u001b[0m: [WinError 5] Access is denied: 'C:\\\\Users\\\\xingz\\\\AppData\\\\Local\\\\Application Data'"
     ]
    }
   ],
   "source": [
    "from pathlib import Path\n",
    "tree_str = ''\n",
    "\n",
    "def generate_tree(pathname, n=0):\n",
    "    global tree_str\n",
    "    if pathname.is_file():\n",
    "        tree_str += '    |' * n + '-' * 4 + pathname.name + '\\n'\n",
    "    elif pathname.is_dir():\n",
    "        tree_str += '    |' * n + '-' * 4 + \\\n",
    "            str(pathname.relative_to(pathname.parent)) + '\\\\' + '\\n'\n",
    "        for cp in pathname.iterdir():\n",
    "            generate_tree(cp, n + 1)\n",
    "\n",
    "if __name__ == '__main__':\n",
    "    generate_tree(Path.cwd())\n",
    "    print(tree_str)"
   ]
  },
  {
   "cell_type": "code",
   "execution_count": 11,
   "id": "b070f839",
   "metadata": {},
   "outputs": [
    {
     "name": "stdout",
     "output_type": "stream",
     "text": [
      "Couldn't find program: 'bash'\n"
     ]
    }
   ],
   "source": [
    "%%bash\n",
    "\n",
    "%mkdir new_dir\n",
    "%cd new_dir\n",
    "for i in range(1,5):\n",
    "     %mkdir dir_{i}\n",
    "%ls\n",
    "%cd ..\n",
    "%rm -r new_dir"
   ]
  },
  {
   "cell_type": "markdown",
   "id": "fd36b608",
   "metadata": {},
   "source": [
    "\n",
    "    .\n",
    "    └── new_dir\n",
    "        ├── dir_1\n",
    "        ├── dir_2\n",
    "        ├── dir_3\n",
    "        └── dir_4\n",
    "  "
   ]
  },
  {
   "cell_type": "markdown",
   "id": "8b7adb30",
   "metadata": {},
   "source": [
    "task 4\n"
   ]
  },
  {
   "cell_type": "code",
   "execution_count": null,
   "id": "0307a77a",
   "metadata": {},
   "outputs": [],
   "source": [
    "with open('dirtree.txt','w') as text_file:\n",
    "    text_file.write(\"\"\"%%bash\n",
    "\n",
    "mkdir new_dir\n",
    "cd new_dir\n",
    "for i in {1..4}\n",
    "do\n",
    "mkdir dir_$i\n",
    "done\n",
    "cd ..\n",
    "rm -r new_dir\"\"\")\n",
    "%cat dirtree.txt\n",
    "   \n",
    "%%writefile dirtree.txt\n",
    "%%bash\n",
    "\n",
    "mkdir new_dir\n",
    "cd new_dir\n",
    "for i in {1..4}\n",
    "do\n",
    "mkdir dir_$i\n",
    "done\n",
    "cd ..\n",
    "rm -r new_dir"
   ]
  },
  {
   "cell_type": "code",
   "execution_count": null,
   "id": "53c9f258",
   "metadata": {},
   "outputs": [],
   "source": []
  },
  {
   "cell_type": "markdown",
   "id": "e23d99da",
   "metadata": {},
   "source": [
    "task5"
   ]
  },
  {
   "cell_type": "code",
   "execution_count": 19,
   "id": "39cbdbd4",
   "metadata": {},
   "outputs": [],
   "source": [
    "pwd = %pwd\n",
    "lslist = !dir"
   ]
  },
  {
   "cell_type": "markdown",
   "id": "f2fdf626",
   "metadata": {},
   "source": [
    "task 6"
   ]
  },
  {
   "cell_type": "code",
   "execution_count": 21,
   "id": "a2c2715d",
   "metadata": {},
   "outputs": [
    {
     "name": "stdout",
     "output_type": "stream",
     "text": [
      "int32\n",
      "float64\n"
     ]
    }
   ],
   "source": [
    "import numpy as np\n",
    "import matplotlib as mpl\n",
    "import matplotlib.pyplot as plt\n",
    "%matplotlib inline\n",
    "\n",
    "\n",
    "\n",
    "print(np.arange(0,9,1).dtype)\n",
    "print(np.arange(0.,9,1).dtype)"
   ]
  },
  {
   "cell_type": "code",
   "execution_count": 22,
   "id": "aca7dcf9",
   "metadata": {},
   "outputs": [
    {
     "name": "stdout",
     "output_type": "stream",
     "text": [
      "67600\n",
      "67600\n"
     ]
    }
   ],
   "source": [
    "alphabet = 'abcdefghijklmnopqrstuvwxyz'\n",
    "codes = [ i+j+str(k)+str(l) for i in alphabet for j in alphabet for k in range(10) for l in range(10) ]\n",
    "print( len(codes) )\n",
    "print( np.unique(np.array(codes)).size )"
   ]
  },
  {
   "cell_type": "markdown",
   "id": "82cc6b7c",
   "metadata": {},
   "source": [
    "task 8"
   ]
  },
  {
   "cell_type": "code",
   "execution_count": 24,
   "id": "4a8cb7a3",
   "metadata": {},
   "outputs": [
    {
     "name": "stdout",
     "output_type": "stream",
     "text": [
      "[ 0.  1.  2.  3.  4.  5.  6.  7.  8.  9. 10.]\n"
     ]
    }
   ],
   "source": [
    "a= np.linspace(start=0,stop=10,num=11)\n",
    "print (a)"
   ]
  },
  {
   "cell_type": "code",
   "execution_count": 27,
   "id": "f768e79a",
   "metadata": {},
   "outputs": [
    {
     "name": "stdout",
     "output_type": "stream",
     "text": [
      "['0.00' '1.00' '2.00' '3.00' '4.00' '5.00' '6.00' '7.00' '8.00' '9.00'\n",
      " '10.00']\n"
     ]
    }
   ],
   "source": [
    "b =  np.array(['{:1.2f}'.format(i) for i in a])\n",
    "print (b)"
   ]
  },
  {
   "cell_type": "markdown",
   "id": "214cc3ae",
   "metadata": {},
   "source": [
    "task 9"
   ]
  },
  {
   "cell_type": "code",
   "execution_count": 30,
   "id": "09ba0006",
   "metadata": {},
   "outputs": [
    {
     "name": "stdout",
     "output_type": "stream",
     "text": [
      "[0 1 2 3 4 5 6 7]\n",
      "[0 1 2 3 4 5 6 7]\n",
      "[0.   0.25 0.5  0.75 1.   1.25 1.5  1.75 2.   2.25 2.5  2.75 3.   3.25\n",
      " 3.5  3.75 4.   4.25 4.5  4.75 5.   5.25 5.5  5.75 6.   6.25 6.5  6.75\n",
      " 7.  ]\n",
      "[0.   0.25 0.5  0.75 1.   1.25 1.5  1.75 2.   2.25 2.5  2.75 3.   3.25\n",
      " 3.5  3.75 4.   4.25 4.5  4.75 5.   5.25 5.5  5.75 6.   6.25 6.5  6.75\n",
      " 7.  ]\n"
     ]
    }
   ],
   "source": [
    "print(np.arange(0,8,1))\n",
    "print(np.linspace(0,7,7+1,dtype=int))\n",
    "print(np.arange(0,7.1,.25))\n",
    "print(np.linspace(0,7,7*4+1,dtype=float))"
   ]
  },
  {
   "cell_type": "markdown",
   "id": "207ad900",
   "metadata": {},
   "source": [
    "task 10"
   ]
  },
  {
   "cell_type": "code",
   "execution_count": 31,
   "id": "d6bbb567",
   "metadata": {},
   "outputs": [
    {
     "name": "stdout",
     "output_type": "stream",
     "text": [
      "5100\n",
      "5100\n"
     ]
    }
   ],
   "source": [
    "array = np.empty(0)\n",
    "for code in codes:\n",
    "    if 'a' in code:\n",
    "        array = np.append(array, code)\n",
    "print(array.size)\n",
    "array = np.array( [code for code in codes if 'a' in code] )\n",
    "print(array.size)"
   ]
  },
  {
   "cell_type": "markdown",
   "id": "32a7a52e",
   "metadata": {},
   "source": [
    "task 11"
   ]
  },
  {
   "cell_type": "code",
   "execution_count": 34,
   "id": "f5b9823c",
   "metadata": {},
   "outputs": [
    {
     "name": "stdout",
     "output_type": "stream",
     "text": [
      "[[1 0 0]\n",
      " [0 1 0]\n",
      " [0 0 1]]\n"
     ]
    }
   ],
   "source": [
    "\n",
    "a = np.zeros(shape=(3,3))\n",
    "a[0,0] = 1\n",
    "a[1,1] = 1\n",
    "a[2,2] = 1\n",
    "print(array)\n"
   ]
  },
  {
   "cell_type": "markdown",
   "id": "3cc382f5",
   "metadata": {},
   "source": [
    "task 12"
   ]
  },
  {
   "cell_type": "markdown",
   "id": "be2a2c87",
   "metadata": {},
   "source": [
    "```.py\n",
    "x = np.arange(0,10,1)\n",
    "y = x**2\n",
    "np.savetxt('parabola.txt',np.c_[x,y],fmt='%d',header='x y',delimiter=' ',comments='')\n",
    "%cat parabola.txt```\n",
    "\n",
    "The cell should\n",
    "- write to file the following table as a tab-separated value file, specifying a header and the format of the numbers\n",
    "\n",
    "x        | y        |   \n",
    "-------- | -------- | \n",
    "0        | 0        |\n",
    "1        | 1        |\n",
    "2        | 4        |\n",
    "3        | 9        |\n",
    "4        | 16       |\n",
    "5        | 25       |\n",
    "6        | 36       |\n",
    "7        | 49       |\n",
    "8        | 64       |\n",
    "9        | 81       |\n"
   ]
  },
  {
   "cell_type": "code",
   "execution_count": 50,
   "id": "859be9d0",
   "metadata": {},
   "outputs": [
    {
     "name": "stdout",
     "output_type": "stream",
     "text": [
      "parabola.txt\n"
     ]
    }
   ],
   "source": [
    "x = np.arange(0,10,1)\n",
    "y = x**2\n",
    "np.savetxt('parabola.txt',np.c_[x,y],fmt='%d',header='x\ty',delimiter='\t',comments='')\n",
    "plot('parabola.txt') "
   ]
  },
  {
   "cell_type": "markdown",
   "id": "243bcefd",
   "metadata": {},
   "source": [
    "task 13\n"
   ]
  },
  {
   "cell_type": "code",
   "execution_count": 56,
   "id": "ae56328d",
   "metadata": {},
   "outputs": [
    {
     "data": {
      "image/png": "[encoded data removed]",
      "text/plain": [
       "<Figure size 432x288 with 1 Axes>"
      ]
     },
     "metadata": {
      "needs_background": "light"
     },
     "output_type": "display_data"
    },
    {
     "data": {
      "image/png": "[encoded data removed]",
      "text/plain": [
       "<Figure size 432x288 with 1 Axes>"
      ]
     },
     "metadata": {
      "needs_background": "light"
     },
     "output_type": "display_data"
    }
   ],
   "source": [
    "x,y = np.loadtxt('parabola.txt',dtype=str,delimiter='\t',skiprows=1,unpack=True)\n",
    "plt.plot(x,y)\n",
    "plt.show()\n",
    "x,y = np.loadtxt('parabola.txt',dtype=int,delimiter='\t',skiprows=1,unpack=True)\n",
    "plt.plot(x,y)\n",
    "plt.show()"
   ]
  },
  {
   "cell_type": "code",
   "execution_count": null,
   "id": "1616b7c8",
   "metadata": {},
   "outputs": [],
   "source": []
  },
  {
   "cell_type": "code",
   "execution_count": null,
   "id": "9fa847f8",
   "metadata": {},
   "outputs": [],
   "source": []
  },
  {
   "cell_type": "code",
   "execution_count": null,
   "id": "0de393d7",
   "metadata": {},
   "outputs": [],
   "source": []
  },
  {
   "cell_type": "markdown",
   "id": "be765283",
   "metadata": {},
   "source": [
    "task 14\n"
   ]
  },
  {
   "cell_type": "code",
   "execution_count": 57,
   "id": "5434dc78",
   "metadata": {},
   "outputs": [
    {
     "data": {
      "image/png": "[encoded data removed]",
      "text/plain": [
       "<Figure size 432x288 with 2 Axes>"
      ]
     },
     "metadata": {
      "needs_background": "light"
     },
     "output_type": "display_data"
    }
   ],
   "source": [
    "x = np.linspace(-2, 2, 100)\n",
    "y = x[:,np.newaxis]\n",
    "z = x*y*np.exp( - x**2 - y**2) \n",
    "plt.imshow(z, extent=[-2,2,2,-2], origin='lower')\n",
    "plt.colorbar(label='z')\n",
    "plt.xlabel('x')\n",
    "plt.ylabel('y');"
   ]
  },
  {
   "cell_type": "code",
   "execution_count": 58,
   "id": "ba8bcc65",
   "metadata": {},
   "outputs": [
    {
     "data": {
      "image/png": "[encoded data removed]",
      "text/plain": [
       "<Figure size 432x288 with 2 Axes>"
      ]
     },
     "metadata": {
      "needs_background": "light"
     },
     "output_type": "display_data"
    }
   ],
   "source": [
    "x = np.linspace(-2, 2, 100)\n",
    "y = x[:,np.newaxis]\n",
    "z = x*y*np.exp( - x**2 - y**2) \n",
    "z[z<.04]=.18\n",
    "plt.imshow(z, extent=[-2,2,2,-2], origin='lower')\n",
    "plt.colorbar(label='z')\n",
    "plt.xlabel('x')\n",
    "plt.ylabel('y');"
   ]
  },
  {
   "cell_type": "code",
   "execution_count": 59,
   "id": "1e3ba5ce",
   "metadata": {},
   "outputs": [],
   "source": [
    "def func1(n):\n",
    "    result = 0\n",
    "    for k in range(1,int(n)):\n",
    "        result += np.sqrt(k)/k**3\n",
    "    return result"
   ]
  },
  {
   "cell_type": "code",
   "execution_count": 60,
   "id": "e13f0217",
   "metadata": {},
   "outputs": [],
   "source": [
    "def func2(n):\n",
    "    return ( np.sqrt(np.arange(1.,n)) / (np.arange(1.,n)**3) ).sum()"
   ]
  },
  {
   "cell_type": "code",
   "execution_count": null,
   "id": "894a8ce5",
   "metadata": {},
   "outputs": [],
   "source": []
  },
  {
   "cell_type": "code",
   "execution_count": null,
   "id": "04a193cf",
   "metadata": {},
   "outputs": [],
   "source": []
  },
  {
   "cell_type": "code",
   "execution_count": null,
   "id": "b9a0a2a1",
   "metadata": {},
   "outputs": [],
   "source": []
  },
  {
   "cell_type": "code",
   "execution_count": null,
   "id": "8c9b25f5",
   "metadata": {},
   "outputs": [],
   "source": []
  },
  {
   "cell_type": "markdown",
   "id": "97288a5c",
   "metadata": {},
   "source": [
    "Day 2"
   ]
  },
  {
   "cell_type": "code",
   "execution_count": 61,
   "id": "b452f502",
   "metadata": {},
   "outputs": [],
   "source": [
    "import numpy as np\n",
    "import pandas as pd\n",
    "import seaborn as sns\n",
    "import matplotlib as mpl\n",
    "import matplotlib.pyplot as plt\n",
    "%matplotlib inline"
   ]
  },
  {
   "cell_type": "code",
   "execution_count": null,
   "id": "2f0b772e",
   "metadata": {},
   "outputs": [],
   "source": []
  }
 ],
 "metadata": {
  "kernelspec": {
   "display_name": "Python 3 (ipykernel)",
   "language": "python",
   "name": "python3"
  },
  "language_info": {
   "codemirror_mode": {
    "name": "ipython",
    "version": 3
   },
   "file_extension": ".py",
   "mimetype": "text/x-python",
   "name": "python",
   "nbconvert_exporter": "python",
   "pygments_lexer": "ipython3",
   "version": "3.9.7"
  }
 },
 "nbformat": 4,
 "nbformat_minor": 5
}
